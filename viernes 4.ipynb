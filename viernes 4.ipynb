{
 "cells": [
  {
   "cell_type": "markdown",
   "metadata": {},
   "source": [
    "![imagen](./img/ejercicios.png)"
   ]
  },
  {
   "cell_type": "markdown",
   "metadata": {},
   "source": [
    "# INFORMACIÓN DEL PROYECTO"
   ]
  },
  {
   "cell_type": "markdown",
   "metadata": {},
   "source": [
    "### TÍTULO"
   ]
  },
  {
   "cell_type": "code",
   "execution_count": null,
   "metadata": {},
   "outputs": [],
   "source": [
    "#Escribe el título del proyecto en Markdown\n",
    "titulo = \"Nintendo vs Sony\""
   ]
  },
  {
   "cell_type": "markdown",
   "metadata": {},
   "source": [
    "### TEMA"
   ]
  },
  {
   "cell_type": "code",
   "execution_count": null,
   "metadata": {},
   "outputs": [],
   "source": [
    "# Describe brevemente el tema del proyecto en Markdown\n",
    "tema = \"Comparacion en ventas de software de las dos grandes empresas japonesas\""
   ]
  },
  {
   "cell_type": "markdown",
   "metadata": {},
   "source": [
    "### HIPÓTESIS"
   ]
  },
  {
   "cell_type": "markdown",
   "metadata": {},
   "source": [
    "Define aquí lo que será la hipótesis de tu proyecto.\n",
    "Deberás tener más de una, pero tu proyecto lo harás teniendo una principal hipótesis."
   ]
  },
  {
   "cell_type": "markdown",
   "metadata": {},
   "source": [
    "hipotesis_1 = \"Las consolas de Sony de sobremesa van a ganar en ventas de software en todos los duelos\"\n"
   ]
  },
  {
   "cell_type": "markdown",
   "metadata": {},
   "source": [
    "hipotesis_2 = \"Las consolas portatiles de Nintendo van a ganar la partida a las portatiles de Sony\""
   ]
  },
  {
   "cell_type": "markdown",
   "metadata": {},
   "source": [
    "## OBTENCIÓN DE LOS DATOS"
   ]
  },
  {
   "cell_type": "markdown",
   "metadata": {},
   "source": [
    "### DATASETS Y FUENTES ALTERNATIVAS DE DATOS"
   ]
  },
  {
   "cell_type": "markdown",
   "metadata": {},
   "source": [
    "Incluye aquí una vista del dataset o datasets de los que partirás para poder evaluar tu hipótesis. <br>\n",
    "También incluye el origen de estos datos y su fuente."
   ]
  },
  {
   "cell_type": "code",
   "execution_count": 7,
   "metadata": {},
   "outputs": [],
   "source": [
    "import pandas as pd\n",
    "# guarda en variables los datasets y su fuente\n",
    "df_1 = pd.read_csv('datos_videojuegos_definitivo.csv')\n",
    "fuente_1 = \"https://www.vgchartz.com/games/games.php?name=&keyword=&console=&region=All&developer=&publisher=&goty_year=&genre=&boxart=Both&banner=Both&ownership=Both&showmultiplat=No&results=50&order=Sales&showtotalsales=0&showtotalsales=1&showpublisher=0&showvgchartzscore=0&shownasales=0&shownasales=1&showdeveloper=0&showcriticscore=0&showpalsales=0&showpalsales=1&showreleasedate=0&showuserscore=0&showjapansales=0&showjapansales=1&showlastupdate=0&showothersales=0&showshipped=0\"\n",
    "df_2 = pd.read_csv('venta_consolas.csv', sep=';')\n",
    "fuente_2 = \"https://www.vgchartz.com/charts/platform_totals/Hardware.php/\"\n"
   ]
  },
  {
   "cell_type": "markdown",
   "metadata": {},
   "source": [
    "Muestra mediante un head() los principales datasets con los que vas a trabajar"
   ]
  },
  {
   "cell_type": "code",
   "execution_count": 2,
   "metadata": {},
   "outputs": [
    {
     "data": {
      "text/html": [
       "<div>\n",
       "<style scoped>\n",
       "    .dataframe tbody tr th:only-of-type {\n",
       "        vertical-align: middle;\n",
       "    }\n",
       "\n",
       "    .dataframe tbody tr th {\n",
       "        vertical-align: top;\n",
       "    }\n",
       "\n",
       "    .dataframe thead th {\n",
       "        text-align: right;\n",
       "    }\n",
       "</style>\n",
       "<table border=\"1\" class=\"dataframe\">\n",
       "  <thead>\n",
       "    <tr style=\"text-align: right;\">\n",
       "      <th></th>\n",
       "      <th>Pos</th>\n",
       "      <th>Game</th>\n",
       "      <th>Game.1</th>\n",
       "      <th>Console</th>\n",
       "      <th>Total Sales</th>\n",
       "      <th>NA Sales</th>\n",
       "      <th>PAL Sales</th>\n",
       "      <th>Japan Sales</th>\n",
       "      <th>Other Sales</th>\n",
       "      <th>Release Date</th>\n",
       "      <th>Unnamed: 10_level_2</th>\n",
       "      <th>Genero</th>\n",
       "      <th>Plataforma</th>\n",
       "    </tr>\n",
       "  </thead>\n",
       "  <tbody>\n",
       "    <tr>\n",
       "      <th>0</th>\n",
       "      <td>1</td>\n",
       "      <td>NaN</td>\n",
       "      <td>Pokémon Red / Green / Blue Version</td>\n",
       "      <td>NaN</td>\n",
       "      <td>31.37m</td>\n",
       "      <td>11.27m</td>\n",
       "      <td>8.89m</td>\n",
       "      <td>10.22m</td>\n",
       "      <td>1.00m</td>\n",
       "      <td>30th Sep 98</td>\n",
       "      <td>NaN</td>\n",
       "      <td>Role-Playing</td>\n",
       "      <td>GB</td>\n",
       "    </tr>\n",
       "    <tr>\n",
       "      <th>1</th>\n",
       "      <td>2</td>\n",
       "      <td>NaN</td>\n",
       "      <td>Pokémon Gold / Silver Version</td>\n",
       "      <td>NaN</td>\n",
       "      <td>23.10m</td>\n",
       "      <td>9.00m</td>\n",
       "      <td>6.18m</td>\n",
       "      <td>7.20m</td>\n",
       "      <td>0.71m</td>\n",
       "      <td>14th Oct 00</td>\n",
       "      <td>NaN</td>\n",
       "      <td>Role-Playing</td>\n",
       "      <td>GB</td>\n",
       "    </tr>\n",
       "    <tr>\n",
       "      <th>2</th>\n",
       "      <td>3</td>\n",
       "      <td>NaN</td>\n",
       "      <td>Pokémon Yellow: Special Pikachu Edition</td>\n",
       "      <td>NaN</td>\n",
       "      <td>14.64m</td>\n",
       "      <td>5.89m</td>\n",
       "      <td>5.04m</td>\n",
       "      <td>3.12m</td>\n",
       "      <td>0.59m</td>\n",
       "      <td>19th Oct 99</td>\n",
       "      <td>NaN</td>\n",
       "      <td>Role-Playing</td>\n",
       "      <td>GB</td>\n",
       "    </tr>\n",
       "    <tr>\n",
       "      <th>3</th>\n",
       "      <td>4</td>\n",
       "      <td>NaN</td>\n",
       "      <td>Dragon Quest Monsters</td>\n",
       "      <td>NaN</td>\n",
       "      <td>2.35m</td>\n",
       "      <td>NaN</td>\n",
       "      <td>NaN</td>\n",
       "      <td>2.34m</td>\n",
       "      <td>0.01m</td>\n",
       "      <td>31st Dec 99</td>\n",
       "      <td>NaN</td>\n",
       "      <td>Role-Playing</td>\n",
       "      <td>GB</td>\n",
       "    </tr>\n",
       "    <tr>\n",
       "      <th>4</th>\n",
       "      <td>5</td>\n",
       "      <td>NaN</td>\n",
       "      <td>Yu-Gi-Oh: Duel Monsters 4</td>\n",
       "      <td>NaN</td>\n",
       "      <td>2.18m</td>\n",
       "      <td>NaN</td>\n",
       "      <td>NaN</td>\n",
       "      <td>2.17m</td>\n",
       "      <td>0.01m</td>\n",
       "      <td>07th Dec 00</td>\n",
       "      <td>NaN</td>\n",
       "      <td>Role-Playing</td>\n",
       "      <td>GB</td>\n",
       "    </tr>\n",
       "  </tbody>\n",
       "</table>\n",
       "</div>"
      ],
      "text/plain": [
       "   Pos  Game                                   Game.1  Console Total Sales  \\\n",
       "0    1   NaN       Pokémon Red / Green / Blue Version      NaN      31.37m   \n",
       "1    2   NaN            Pokémon Gold / Silver Version      NaN      23.10m   \n",
       "2    3   NaN  Pokémon Yellow: Special Pikachu Edition      NaN      14.64m   \n",
       "3    4   NaN                    Dragon Quest Monsters      NaN       2.35m   \n",
       "4    5   NaN                Yu-Gi-Oh: Duel Monsters 4      NaN       2.18m   \n",
       "\n",
       "  NA Sales PAL Sales Japan Sales Other Sales Release Date  \\\n",
       "0   11.27m     8.89m      10.22m       1.00m  30th Sep 98   \n",
       "1    9.00m     6.18m       7.20m       0.71m  14th Oct 00   \n",
       "2    5.89m     5.04m       3.12m       0.59m  19th Oct 99   \n",
       "3      NaN       NaN       2.34m       0.01m  31st Dec 99   \n",
       "4      NaN       NaN       2.17m       0.01m  07th Dec 00   \n",
       "\n",
       "   Unnamed: 10_level_2        Genero Plataforma  \n",
       "0                  NaN  Role-Playing         GB  \n",
       "1                  NaN  Role-Playing         GB  \n",
       "2                  NaN  Role-Playing         GB  \n",
       "3                  NaN  Role-Playing         GB  \n",
       "4                  NaN  Role-Playing         GB  "
      ]
     },
     "execution_count": 2,
     "metadata": {},
     "output_type": "execute_result"
    }
   ],
   "source": [
    "# Primer dataset\n",
    "df_1.head()"
   ]
  },
  {
   "cell_type": "code",
   "execution_count": 8,
   "metadata": {},
   "outputs": [
    {
     "data": {
      "text/html": [
       "<div>\n",
       "<style scoped>\n",
       "    .dataframe tbody tr th:only-of-type {\n",
       "        vertical-align: middle;\n",
       "    }\n",
       "\n",
       "    .dataframe tbody tr th {\n",
       "        vertical-align: top;\n",
       "    }\n",
       "\n",
       "    .dataframe thead th {\n",
       "        text-align: right;\n",
       "    }\n",
       "</style>\n",
       "<table border=\"1\" class=\"dataframe\">\n",
       "  <thead>\n",
       "    <tr style=\"text-align: right;\">\n",
       "      <th></th>\n",
       "      <th>Plataforma</th>\n",
       "      <th>América del norte</th>\n",
       "      <th>Europa</th>\n",
       "      <th>Japón</th>\n",
       "      <th>Resto del mundo</th>\n",
       "      <th>Global</th>\n",
       "      <th>Unnamed: 6</th>\n",
       "    </tr>\n",
       "  </thead>\n",
       "  <tbody>\n",
       "    <tr>\n",
       "      <th>0</th>\n",
       "      <td>PS2</td>\n",
       "      <td>53.65</td>\n",
       "      <td>55.28</td>\n",
       "      <td>23.18</td>\n",
       "      <td>27,9</td>\n",
       "      <td>160.01</td>\n",
       "      <td>NaN</td>\n",
       "    </tr>\n",
       "    <tr>\n",
       "      <th>1</th>\n",
       "      <td>DS</td>\n",
       "      <td>57,92</td>\n",
       "      <td>51.84</td>\n",
       "      <td>32,99</td>\n",
       "      <td>11.28</td>\n",
       "      <td>154.02</td>\n",
       "      <td>NaN</td>\n",
       "    </tr>\n",
       "    <tr>\n",
       "      <th>2</th>\n",
       "      <td>NS</td>\n",
       "      <td>52.78</td>\n",
       "      <td>38,79</td>\n",
       "      <td>35,79</td>\n",
       "      <td>23.16</td>\n",
       "      <td>150.52</td>\n",
       "      <td>NaN</td>\n",
       "    </tr>\n",
       "    <tr>\n",
       "      <th>3</th>\n",
       "      <td>GB</td>\n",
       "      <td>43.18</td>\n",
       "      <td>40.05</td>\n",
       "      <td>32.47</td>\n",
       "      <td>2,99</td>\n",
       "      <td>118.69</td>\n",
       "      <td>NaN</td>\n",
       "    </tr>\n",
       "    <tr>\n",
       "      <th>4</th>\n",
       "      <td>PS4</td>\n",
       "      <td>38.12</td>\n",
       "      <td>45.86</td>\n",
       "      <td>9.68</td>\n",
       "      <td>23.53</td>\n",
       "      <td>117.20</td>\n",
       "      <td>NaN</td>\n",
       "    </tr>\n",
       "  </tbody>\n",
       "</table>\n",
       "</div>"
      ],
      "text/plain": [
       "  Plataforma América del norte Europa  Japón Resto del mundo  Global  \\\n",
       "0        PS2             53.65  55.28  23.18            27,9  160.01   \n",
       "1         DS             57,92  51.84  32,99           11.28  154.02   \n",
       "2         NS             52.78  38,79  35,79           23.16  150.52   \n",
       "3         GB             43.18  40.05  32.47            2,99  118.69   \n",
       "4        PS4             38.12  45.86   9.68           23.53  117.20   \n",
       "\n",
       "   Unnamed: 6  \n",
       "0         NaN  \n",
       "1         NaN  \n",
       "2         NaN  \n",
       "3         NaN  \n",
       "4         NaN  "
      ]
     },
     "execution_count": 8,
     "metadata": {},
     "output_type": "execute_result"
    }
   ],
   "source": [
    "# Siguiente dataset...\n",
    "df_2.head()"
   ]
  }
 ],
 "metadata": {
  "kernelspec": {
   "display_name": "Python 3",
   "language": "python",
   "name": "python3"
  },
  "language_info": {
   "codemirror_mode": {
    "name": "ipython",
    "version": 3
   },
   "file_extension": ".py",
   "mimetype": "text/x-python",
   "name": "python",
   "nbconvert_exporter": "python",
   "pygments_lexer": "ipython3",
   "version": "3.10.11"
  },
  "orig_nbformat": 4
 },
 "nbformat": 4,
 "nbformat_minor": 2
}
